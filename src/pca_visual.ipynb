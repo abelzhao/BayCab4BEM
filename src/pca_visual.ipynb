{
 "cells": [
  {
   "cell_type": "code",
   "execution_count": 29,
   "metadata": {},
   "outputs": [],
   "source": [
    "import numpy as np\n",
    "from sklearn.decomposition import PCA, KernelPCA\n",
    "import matplotlib.pyplot as plt\n",
    "# simDataFile = 'iwCabData/config_11/y_hourly.csv'\n",
    "fieldDataFile = 'iwCabData/config_11/y_hourly.csv'"
   ]
  },
  {
   "cell_type": "code",
   "execution_count": 30,
   "metadata": {},
   "outputs": [],
   "source": [
    "# Read file\n",
    "#D_COMP = np.genfromtxt(simDataFile, delimiter = ',')\n",
    "D_FIELD = np.genfromtxt(fieldDataFile, delimiter = ',', skip_header = 1)\n",
    "ydim = 2"
   ]
  },
  {
   "cell_type": "code",
   "execution_count": 31,
   "metadata": {},
   "outputs": [],
   "source": [
    "#D_FIELD = D_FIELD[:, 1:]\n",
    "yf = D_FIELD[:, 1:3]"
   ]
  },
  {
   "cell_type": "code",
   "execution_count": 32,
   "metadata": {},
   "outputs": [
    {
     "data": {
      "text/plain": [
       "array([[ 21.27891391,  24.54608278],\n",
       "       [ 21.2373823 ,  24.62155711],\n",
       "       [ 21.14239322,  25.92720303],\n",
       "       ..., \n",
       "       [ 21.83110551,   0.        ],\n",
       "       [ 21.63954949,   0.        ],\n",
       "       [ 21.44126395,   1.83220653]])"
      ]
     },
     "execution_count": 32,
     "metadata": {},
     "output_type": "execute_result"
    }
   ],
   "source": [
    "yf"
   ]
  },
  {
   "cell_type": "code",
   "execution_count": 33,
   "metadata": {},
   "outputs": [
    {
     "data": {
      "text/plain": [
       "'\\nD_COMP = D_COMP[0:, :]\\nD_FIELD = D_FIELD[0:, :]\\ny = D_FIELD[:,0:ydim]\\nxf = D_FIELD[:,ydim:]\\n(n,p) = xf.shape\\neta = D_COMP[:,0:ydim]\\nxc = D_COMP[:,ydim:(ydim+p)]\\ntc = D_COMP[:,(p+ydim):]\\n(m,q) = tc.shape\\nx = np.concatenate((xf,xc), axis=0)\\n'"
      ]
     },
     "execution_count": 33,
     "metadata": {},
     "output_type": "execute_result"
    }
   ],
   "source": [
    "\"\"\"\n",
    "D_COMP = D_COMP[0:, :]\n",
    "D_FIELD = D_FIELD[0:, :]\n",
    "y = D_FIELD[:,0:ydim]\n",
    "xf = D_FIELD[:,ydim:]\n",
    "(n,p) = xf.shape\n",
    "eta = D_COMP[:,0:ydim]\n",
    "xc = D_COMP[:,ydim:(ydim+p)]\n",
    "tc = D_COMP[:,(p+ydim):]\n",
    "(m,q) = tc.shape\n",
    "x = np.concatenate((xf,xc), axis=0)\n",
    "\"\"\""
   ]
  },
  {
   "cell_type": "code",
   "execution_count": 34,
   "metadata": {},
   "outputs": [],
   "source": [
    "#yf = D_FIELD[:, 0:2]\n",
    "#yc = D_COMP[:, 0:2]"
   ]
  },
  {
   "cell_type": "code",
   "execution_count": 35,
   "metadata": {},
   "outputs": [],
   "source": [
    "#x.min(axis = 0)"
   ]
  },
  {
   "cell_type": "code",
   "execution_count": 36,
   "metadata": {},
   "outputs": [],
   "source": [
    "#x = (x - x.min(axis = 0)) / x.ptp(axis = 0); # Min max norm"
   ]
  },
  {
   "cell_type": "code",
   "execution_count": 37,
   "metadata": {},
   "outputs": [
    {
     "data": {
      "text/plain": [
       "array([[ 21.27891391,  24.54608278],\n",
       "       [ 21.2373823 ,  24.62155711],\n",
       "       [ 21.14239322,  25.92720303],\n",
       "       ..., \n",
       "       [ 21.83110551,   0.        ],\n",
       "       [ 21.63954949,   0.        ],\n",
       "       [ 21.44126395,   1.83220653]])"
      ]
     },
     "execution_count": 37,
     "metadata": {},
     "output_type": "execute_result"
    }
   ],
   "source": [
    "yf"
   ]
  },
  {
   "cell_type": "code",
   "execution_count": null,
   "metadata": {},
   "outputs": [],
   "source": []
  },
  {
   "cell_type": "code",
   "execution_count": 38,
   "metadata": {},
   "outputs": [],
   "source": [
    "#yf_mu = np.nanmean(yf, axis = 0)\n",
    "#yf_sd = np.nanstd(yf, axis = 0)\n",
    "#yf = (yf - yf_mu) / yf_sd\n",
    "#z = np.concatenate((yf,yc), axis=0);"
   ]
  },
  {
   "cell_type": "code",
   "execution_count": 39,
   "metadata": {},
   "outputs": [
    {
     "data": {
      "text/plain": [
       "array([[ 21.27891391,  24.54608278],\n",
       "       [ 21.2373823 ,  24.62155711],\n",
       "       [ 21.14239322,  25.92720303],\n",
       "       ..., \n",
       "       [ 21.83110551,   0.        ],\n",
       "       [ 21.63954949,   0.        ],\n",
       "       [ 21.44126395,   1.83220653]])"
      ]
     },
     "execution_count": 39,
     "metadata": {},
     "output_type": "execute_result"
    }
   ],
   "source": [
    "yf"
   ]
  },
  {
   "cell_type": "code",
   "execution_count": 40,
   "metadata": {},
   "outputs": [
    {
     "data": {
      "image/png": "[encoded data removed]",
      "text/plain": [
       "<matplotlib.figure.Figure at 0x7fe442ed8668>"
      ]
     },
     "metadata": {},
     "output_type": "display_data"
    }
   ],
   "source": [
    "plt.scatter(yf[:, 0], yf[:, 1])\n",
    "plt.show()"
   ]
  },
  {
   "cell_type": "code",
   "execution_count": 41,
   "metadata": {},
   "outputs": [],
   "source": [
    "pcaz = PCA(n_components = 1)\n",
    "pcaz.fit(yf)\n",
    "ztrans = pcaz.transform(yf)"
   ]
  },
  {
   "cell_type": "code",
   "execution_count": 42,
   "metadata": {},
   "outputs": [
    {
     "data": {
      "text/plain": [
       "array([ 0.99359166])"
      ]
     },
     "execution_count": 42,
     "metadata": {},
     "output_type": "execute_result"
    }
   ],
   "source": [
    "ztrans.reshape((-2,))\n",
    "pcaz.explained_variance_ratio_"
   ]
  },
  {
   "cell_type": "code",
   "execution_count": 43,
   "metadata": {},
   "outputs": [
    {
     "data": {
      "text/plain": [
       "array([[  4.45464465],\n",
       "       [  4.53147704],\n",
       "       [  5.8395842 ],\n",
       "       ..., \n",
       "       [-20.09609533],\n",
       "       [-20.08963341],\n",
       "       [-18.25178075]])"
      ]
     },
     "execution_count": 43,
     "metadata": {},
     "output_type": "execute_result"
    }
   ],
   "source": [
    "ztrans"
   ]
  },
  {
   "cell_type": "code",
   "execution_count": 44,
   "metadata": {},
   "outputs": [
    {
     "ename": "NameError",
     "evalue": "name 'yftrans' is not defined",
     "output_type": "error",
     "traceback": [
      "\u001b[0;31m---------------------------------------------------------------------------\u001b[0m",
      "\u001b[0;31mNameError\u001b[0m                                 Traceback (most recent call last)",
      "\u001b[0;32m<ipython-input-44-d25e53746b0a>\u001b[0m in \u001b[0;36m<module>\u001b[0;34m()\u001b[0m\n\u001b[0;32m----> 1\u001b[0;31m \u001b[0mplt\u001b[0m\u001b[0;34m.\u001b[0m\u001b[0mscatter\u001b[0m\u001b[0;34m(\u001b[0m\u001b[0myftrans\u001b[0m\u001b[0;34m[\u001b[0m\u001b[0;34m:\u001b[0m\u001b[0;34m,\u001b[0m \u001b[0;36m0\u001b[0m\u001b[0;34m]\u001b[0m\u001b[0;34m,\u001b[0m \u001b[0myftrans\u001b[0m\u001b[0;34m[\u001b[0m\u001b[0;34m:\u001b[0m\u001b[0;34m,\u001b[0m \u001b[0;36m1\u001b[0m\u001b[0;34m]\u001b[0m\u001b[0;34m)\u001b[0m\u001b[0;34m\u001b[0m\u001b[0m\n\u001b[0m\u001b[1;32m      2\u001b[0m \u001b[0mplt\u001b[0m\u001b[0;34m.\u001b[0m\u001b[0mshow\u001b[0m\u001b[0;34m(\u001b[0m\u001b[0;34m)\u001b[0m\u001b[0;34m\u001b[0m\u001b[0m\n",
      "\u001b[0;31mNameError\u001b[0m: name 'yftrans' is not defined"
     ]
    }
   ],
   "source": [
    "plt.scatter(yftrans[:, 0], yftrans[:, 1])\n",
    "plt.show()"
   ]
  },
  {
   "cell_type": "code",
   "execution_count": 45,
   "metadata": {},
   "outputs": [],
   "source": [
    "pcaz_kernel = KernelPCA(n_components = 2, kernel = 'rbf')\n",
    "pcaz_kernel.fit(yf)\n",
    "ztrans_kernel = pcaz_kernel.transform(yf)"
   ]
  },
  {
   "cell_type": "code",
   "execution_count": 46,
   "metadata": {},
   "outputs": [],
   "source": [
    "explained_var = np.var(ztrans_kernel, axis = 0)\n"
   ]
  },
  {
   "cell_type": "code",
   "execution_count": 47,
   "metadata": {},
   "outputs": [
    {
     "data": {
      "text/plain": [
       "array([ 0.07544996,  0.05051839])"
      ]
     },
     "execution_count": 47,
     "metadata": {},
     "output_type": "execute_result"
    }
   ],
   "source": [
    "explained_var"
   ]
  },
  {
   "cell_type": "code",
   "execution_count": null,
   "metadata": {},
   "outputs": [],
   "source": []
  }
 ],
 "metadata": {
  "kernelspec": {
   "display_name": "Python 3",
   "language": "python",
   "name": "python3"
  },
  "language_info": {
   "codemirror_mode": {
    "name": "ipython",
    "version": 3
   },
   "file_extension": ".py",
   "mimetype": "text/x-python",
   "name": "python",
   "nbconvert_exporter": "python",
   "pygments_lexer": "ipython3",
   "version": "3.5.2"
  }
 },
 "nbformat": 4,
 "nbformat_minor": 2
}
