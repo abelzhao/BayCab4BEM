{
 "cells": [
  {
   "cell_type": "code",
   "execution_count": 3,
   "metadata": {},
   "outputs": [],
   "source": [
    "import numpy as np\n",
    "from sklearn.decomposition import PCA\n",
    "import matplotlib.pyplot as plt\n",
    "# simDataFile = 'iwCabData/config_11/y_hourly.csv'\n",
    "fieldDataFile = 'iwCabData/config_11/y_hourly.csv'"
   ]
  },
  {
   "cell_type": "code",
   "execution_count": 18,
   "metadata": {},
   "outputs": [],
   "source": [
    "# Read file\n",
    "#D_COMP = np.genfromtxt(simDataFile, delimiter = ',')\n",
    "D_FIELD = np.genfromtxt(fieldDataFile, delimiter = ',', skip_header = 1)\n",
    "ydim = 2"
   ]
  },
  {
   "cell_type": "code",
   "execution_count": 19,
   "metadata": {},
   "outputs": [],
   "source": [
    "#D_FIELD = D_FIELD[:, 1:]\n",
    "yf = D_FIELD[:, 1:3]"
   ]
  },
  {
   "cell_type": "code",
   "execution_count": 20,
   "metadata": {},
   "outputs": [
    {
     "data": {
      "text/plain": [
       "array([[ 21.27891391,  24.54608278],\n",
       "       [ 21.2373823 ,  24.62155711],\n",
       "       [ 21.14239322,  25.92720303],\n",
       "       ..., \n",
       "       [ 21.83110551,   0.        ],\n",
       "       [ 21.63954949,   0.        ],\n",
       "       [ 21.44126395,   1.83220653]])"
      ]
     },
     "execution_count": 20,
     "metadata": {},
     "output_type": "execute_result"
    }
   ],
   "source": [
    "yf"
   ]
  },
  {
   "cell_type": "code",
   "execution_count": 3,
   "metadata": {},
   "outputs": [],
   "source": [
    "\"\"\"\n",
    "D_COMP = D_COMP[0:, :]\n",
    "D_FIELD = D_FIELD[0:, :]\n",
    "y = D_FIELD[:,0:ydim]\n",
    "xf = D_FIELD[:,ydim:]\n",
    "(n,p) = xf.shape\n",
    "eta = D_COMP[:,0:ydim]\n",
    "xc = D_COMP[:,ydim:(ydim+p)]\n",
    "tc = D_COMP[:,(p+ydim):]\n",
    "(m,q) = tc.shape\n",
    "x = np.concatenate((xf,xc), axis=0)\n",
    "\"\"\""
   ]
  },
  {
   "cell_type": "code",
   "execution_count": 4,
   "metadata": {},
   "outputs": [],
   "source": [
    "#yf = D_FIELD[:, 0:2]\n",
    "#yc = D_COMP[:, 0:2]"
   ]
  },
  {
   "cell_type": "code",
   "execution_count": 5,
   "metadata": {},
   "outputs": [
    {
     "data": {
      "text/plain": [
       "array([-12.39814815, -16.51157407,   0.        ,   0.        ])"
      ]
     },
     "execution_count": 5,
     "metadata": {},
     "output_type": "execute_result"
    }
   ],
   "source": [
    "#x.min(axis = 0)"
   ]
  },
  {
   "cell_type": "code",
   "execution_count": 17,
   "metadata": {},
   "outputs": [],
   "source": [
    "#x = (x - x.min(axis = 0)) / x.ptp(axis = 0); # Min max norm"
   ]
  },
  {
   "cell_type": "code",
   "execution_count": 21,
   "metadata": {},
   "outputs": [
    {
     "data": {
      "text/plain": [
       "array([[ 21.27891391,  24.54608278],\n",
       "       [ 21.2373823 ,  24.62155711],\n",
       "       [ 21.14239322,  25.92720303],\n",
       "       ..., \n",
       "       [ 21.83110551,   0.        ],\n",
       "       [ 21.63954949,   0.        ],\n",
       "       [ 21.44126395,   1.83220653]])"
      ]
     },
     "execution_count": 21,
     "metadata": {},
     "output_type": "execute_result"
    }
   ],
   "source": [
    "yf"
   ]
  },
  {
   "cell_type": "code",
   "execution_count": null,
   "metadata": {
    "collapsed": true
   },
   "outputs": [],
   "source": []
  },
  {
   "cell_type": "code",
   "execution_count": 22,
   "metadata": {},
   "outputs": [],
   "source": [
    "yf_mu = np.nanmean(yf, axis = 0)\n",
    "yf_sd = np.nanstd(yf, axis = 0)\n",
    "yf = (yf - yf_mu) / yf_sd\n",
    "#z = np.concatenate((yf,yc), axis=0);"
   ]
  },
  {
   "cell_type": "code",
   "execution_count": 23,
   "metadata": {},
   "outputs": [
    {
     "data": {
      "text/plain": [
       "array([[-0.36830545,  0.22946285],\n",
       "       [-0.39296509,  0.23336672],\n",
       "       [-0.44936543,  0.3009007 ],\n",
       "       ..., \n",
       "       [-0.04043839, -1.04017277],\n",
       "       [-0.15417592, -1.04017277],\n",
       "       [-0.27190915, -0.94540267]])"
      ]
     },
     "execution_count": 23,
     "metadata": {},
     "output_type": "execute_result"
    }
   ],
   "source": [
    "yf"
   ]
  },
  {
   "cell_type": "code",
   "execution_count": 24,
   "metadata": {},
   "outputs": [
    {
     "data": {
      "image/png": "[encoded data removed]",
      "text/plain": [
       "<matplotlib.figure.Figure at 0x7fbc3c49aba8>"
      ]
     },
     "metadata": {},
     "output_type": "display_data"
    }
   ],
   "source": [
    "plt.scatter(yf[:, 0], yf[:, 1])\n",
    "plt.show()"
   ]
  },
  {
   "cell_type": "code",
   "execution_count": 29,
   "metadata": {},
   "outputs": [],
   "source": [
    "pcaz = PCA(n_components = 1)\n",
    "pcaz.fit(yf)\n",
    "ztrans = pcaz.transform(yf)"
   ]
  },
  {
   "cell_type": "code",
   "execution_count": 30,
   "metadata": {},
   "outputs": [
    {
     "data": {
      "text/plain": [
       "array([ 0.69247778])"
      ]
     },
     "execution_count": 30,
     "metadata": {},
     "output_type": "execute_result"
    }
   ],
   "source": [
    "ztrans.reshape((-2,))\n",
    "pcaz.explained_variance_ratio_"
   ]
  },
  {
   "cell_type": "code",
   "execution_count": 31,
   "metadata": {},
   "outputs": [
    {
     "data": {
      "text/plain": [
       "array([[ 0.42268602],\n",
       "       [ 0.44288348],\n",
       "       [ 0.53051827],\n",
       "       ..., \n",
       "       [-0.70691896],\n",
       "       [-0.62649438],\n",
       "       [-0.47623184]])"
      ]
     },
     "execution_count": 31,
     "metadata": {},
     "output_type": "execute_result"
    }
   ],
   "source": [
    "ztrans"
   ]
  },
  {
   "cell_type": "code",
   "execution_count": 45,
   "metadata": {},
   "outputs": [
    {
     "data": {
      "image/png": "[encoded data removed]",
      "text/plain": [
       "<matplotlib.figure.Figure at 0x7fde536aab70>"
      ]
     },
     "metadata": {},
     "output_type": "display_data"
    }
   ],
   "source": [
    "plt.scatter(yftrans[:, 0], yftrans[:, 1])\n",
    "plt.show()"
   ]
  },
  {
   "cell_type": "code",
   "execution_count": null,
   "metadata": {
    "collapsed": true
   },
   "outputs": [],
   "source": []
  }
 ],
 "metadata": {
  "kernelspec": {
   "display_name": "Python 3",
   "language": "python",
   "name": "python3"
  },
  "language_info": {
   "codemirror_mode": {
    "name": "ipython",
    "version": 3
   },
   "file_extension": ".py",
   "mimetype": "text/x-python",
   "name": "python",
   "nbconvert_exporter": "python",
   "pygments_lexer": "ipython3",
   "version": "3.5.2"
  }
 },
 "nbformat": 4,
 "nbformat_minor": 2
}
